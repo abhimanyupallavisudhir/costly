{
 "cells": [
  {
   "cell_type": "markdown",
   "metadata": {},
   "source": [
    "## Quick start\n",
    "\n",
    "Suppose you have an LLM API calling function, e.g.\n",
    "\n",
    "```python\n",
    "\n",
    "def chatgpt(input_string: str, model: str) -> str:\n",
    "    from openai import OpenAI\n",
    "    client = OpenAI()\n",
    "    response = client.chat.completions.create(\n",
    "        model=model,\n",
    "        messages=[{\"role\": \"user\", \"content\": input_string}]\n",
    "    )\n",
    "    output_string = response.choices[0].message.content\n",
    "    return output_string\n",
    "```\n",
    "\n",
    "Modify it to take the additional arguments `cost_log: costly.Costlog=None`, `simulate: bool=False`, `description: list[str]=None`.\n",
    "\n"
   ]
  },
  {
   "cell_type": "code",
   "execution_count": 1,
   "metadata": {},
   "outputs": [
    {
     "name": "stderr",
     "output_type": "stream",
     "text": [
      "c:\\Users\\abhim\\AppData\\Local\\Programs\\Python\\Python311\\Lib\\site-packages\\requests\\__init__.py:102: RequestsDependencyWarning: urllib3 (1.26.18) or chardet (5.2.0)/charset_normalizer (2.0.10) doesn't match a supported version!\n",
      "  warnings.warn(\"urllib3 ({}) or chardet ({})/charset_normalizer ({}) doesn't match a supported \"\n"
     ]
    },
    {
     "name": "stdout",
     "output_type": "stream",
     "text": [
      "Certainly! Here's the classic \"Lorem ipsum\" text:\n",
      "\n",
      "```\n",
      "Lorem ipsum dolor sit amet, consectetur adipiscing elit. Sed do eiusmod tempor incididunt ut labore et dolore magna aliqua. Ut enim ad minim veniam, quis nostrud exercitation ullamco laboris nisi ut aliquip ex ea commodo consequat. Duis aute irure dolor in reprehenderit in voluptate velit esse cillum dolore eu fugiat nulla pariatur. Excepteur sint occaecat cupidatat non proident, sunt in culpa qui officia deserunt mollit anim id est laborum.\n",
      "```\n",
      "\n",
      "Feel free to let me know if you need more or if there's anything else I can help with!\n",
      "Agent study federal. Agent require language increase art. Probably fall again find young.\n",
      "Glass also east style your piece record. Least half bar something inside.\n",
      "Himself herself action against next present upon. Draw practice series bad town administration. Difference bag human style least guess chance.\n",
      "Page visit campaign. From possible determine ten.\n",
      "Also training administration eat task newspaper herself. Western power far recent music job charge enough. Kid support management also subject able people.\n",
      "Approach nothing grow Democrat travel special. Likely hotel scientist leave. Life final plan.\n",
      "Degree chance challenge government discover cell add. Reduce because while center similar worry window professional.\n",
      "When compare serve administration. Couple since staff top size modern find.\n",
      "Field feeling toward billion run term just then. Challenge might leader yet list.\n",
      "American be political full. Assume argue music him page impact eight. Stage risk beat trade must argue price form.\n",
      "Ahead call suddenly player. Anyone talk team ask her matter. Your election population national speak painting prevent bed. Stand water between range use use.\n",
      "Else structure agreement officer traditional. Deep score face example space positive near law. Plant culture create party.\n",
      "Letter make trip under investment. Personal service Mrs interview you. Talk site day interesting. Less special particularly tell newspaper article.\n",
      "Far sometimes forget range. Late course feel federal.\n",
      "Old attack receive fight. Arm seek reduce our bag system. Sister tell south group heavy.\n",
      "Season even it off sign century. Yes serve someone first southern recently.\n",
      "Health game move large half leave same. Claim attorney especially deal security.\n",
      "Debate statement from Democrat article base collection. Subject event buy treat today food hear. Situation show cultural rise trouble.\n",
      "Government suddenly throughout education many economy. Wonder act standard director letter fine speak.\n",
      "Allow size think Mr reflect task member boy. Friend within control.\n",
      "Serious fly need work human media.\n",
      "Detail every western imagine hear company often involve. Memory participant ago age security building. Hit right response. Fish drug price ever wife.\n",
      "Back serious seek environment station cold. By sure expert quickly. Wait home fact specific charge decade court chair.\n",
      "Political trouble present. Half your someone industry learn. Third alone coach participant feel discussion a student.\n",
      "Another Mr however. Particularly data agent instead. Cause wind one these individual soon. Against building trip feeling.\n",
      "Chair right create you. Adult weight box worry.\n",
      "{'cost_min': 8.130000000000001e-05, 'cost_max': 0.0013101, 'time_max': 20.565489899977575, 'time_min': 2.133489899977576, 'calls': 2.0}\n"
     ]
    }
   ],
   "source": [
    "from openai import OpenAI\n",
    "from costly import Costlog, costly\n",
    "from costly.simulators.llm_simulator_faker import LLM_Simulator_Faker\n",
    "from costly.estimators.llm_api_estimation import LLM_API_Estimation\n",
    "\n",
    "@costly\n",
    "def chatgpt(input_string: str, model: str) -> str:\n",
    "    from openai import OpenAI\n",
    "    client = OpenAI()\n",
    "    response = client.chat.completions.create(\n",
    "        model=model,\n",
    "        messages=[{\"role\": \"user\", \"content\": input_string}]\n",
    "    )\n",
    "    output_string = response.choices[0].message.content\n",
    "    return output_string\n",
    "\n",
    "\n",
    "    \n",
    "cl = Costlog()\n",
    "x = chatgpt(\"Write the Lorem ipsum text\", \"gpt-4o-mini\", cost_log=cl, simulate=False, description=[\"chatgpt call\"])\n",
    "y = chatgpt(\"Write the Lorem ipsum text\", \"gpt-4o-mini\", cost_log=cl, simulate=True, description=[\"chatgpt call\"])\n",
    "print(x)\n",
    "print(y)\n",
    "print(cl.totals)\n"
   ]
  },
  {
   "cell_type": "code",
   "execution_count": 7,
   "metadata": {},
   "outputs": [
    {
     "data": {
      "text/plain": [
       "{'cost_min': 7.5e-07,\n",
       " 'cost_max': 0.00122955,\n",
       " 'time_min': 0.0,\n",
       " 'time_max': 18.432,\n",
       " 'input_tokens': 5,\n",
       " 'output_tokens_min': 0,\n",
       " 'output_tokens_max': 2048,\n",
       " 'calls': 1,\n",
       " 'model': 'gpt-4o-mini',\n",
       " 'simulated': True,\n",
       " 'input_string': 'Write the Lorem ipsum text',\n",
       " 'output_string': None,\n",
       " 'description': ['chatgpt call']}"
      ]
     },
     "execution_count": 7,
     "metadata": {},
     "output_type": "execute_result"
    }
   ],
   "source": [
    "cl.items[1]"
   ]
  },
  {
   "cell_type": "code",
   "execution_count": null,
   "metadata": {},
   "outputs": [],
   "source": [
    "def chatgpt(input_string: str, model: str, cost_log: Costlog=None, simulate: bool=False, description: list[str]=None) -> str:\n",
    "    if simulate:\n",
    "        return LLM_Simulator_Faker.simulate_llm_call(\n",
    "            input_string=input_string,\n",
    "            model=model,\n",
    "            response_model=str,\n",
    "            cost_log=cost_log,\n",
    "            description=description,\n",
    "        )\n",
    "    if cost_log is not None:\n",
    "        with cost_log.new_item() as (item, timer):\n",
    "            output_string = _chatgpt(input_string, model)\n",
    "            cost_item = LLM_API_Estimation.get_cost_real(\n",
    "                model=model,\n",
    "                input_string=input_string,\n",
    "                output_string=output_string,\n",
    "                description=description,\n",
    "                timer=timer(),\n",
    "            )\n",
    "            item.update(cost_item)\n",
    "    else:\n",
    "        output_string = _chatgpt(input_string, model)\n",
    "    return output_string\n"
   ]
  },
  {
   "cell_type": "code",
   "execution_count": 6,
   "metadata": {},
   "outputs": [
    {
     "name": "stdout",
     "output_type": "stream",
     "text": [
      "Whether need I manage this unit.\n",
      "Within bag truth suggest every turn. Easy inside along professor act structure degree. Lose music Republican safe. Base remember professor partner.\n",
      "Be near more stuff. Single method government. Should compare fear window collection so. Difference like decade family describe strategy second alone.\n",
      "Action job yard science never quality. Cause contain though.\n",
      "Rest loss capital score check. Southern American community safe community nor. Road national artist reduce step seven.\n",
      "Another whole blue table today may. Cost long capital piece.\n",
      "Three car rate hair. Subject painting continue executive throw network.\n",
      "Six attention cup city at add. Several continue ask evidence. Detail responsibility guy lay occur president investment.\n",
      "Model often outside behavior agreement or forget. Building star customer certainly.\n",
      "Player fear national tonight of. Style by before strategy action sing. Turn ground return current.\n",
      "Interview concern home doctor. Hear hundred method leave.\n",
      "Oil example bill institution radio. Treatment must mother usually bar center sing. Everyone another important dream.\n",
      "Among hand machine month. Everything like individual whole close bank media.\n",
      "Company individual rest wide term now level pull. Important government hundred when kitchen fund.\n",
      "Improve window popular necessary environment region war. Test institution everything three.\n",
      "See public candidate too.\n",
      "Sign establish leader another challenge. Strategy expert or since hair.\n",
      "Player force worker reach evening such. Wind father certain Mrs.\n",
      "Specific again certain matter. Child that leg benefit fund rate.\n",
      "Foot almost woman after build partner. Personal capital tonight staff kitchen camera.\n",
      "Act different mission partner teacher effort. Over agree administration stuff bit ever article. Congress later area radio. Hair medical mind class pay baby.\n",
      "Never indicate phone leave follow chair land. Stage difference office range city and project. Rich which while ok many.\n",
      "International sell question. Reflect responsibility course himself society her three street.\n",
      "Live room close write time side to image. Technology production much keep could talk.\n",
      "Consider member executive environmental.\n",
      "Future door create. Join loss wrong past recent both. Significant turn far past.\n",
      "Task moment that positive key. Discover moment anyone city play. Room adult member certainly story. Yeah door indeed feel end air sometimes.\n",
      "Stand lose that find assume character.\n",
      "Together pass outside dinner usually plan majority. Care ready political exactly. Member soldier forward from important keep sport.\n",
      "Finish purpose carry good you.\n",
      "Election capital law somebody exactly find. Any garden environment.\n"
     ]
    }
   ],
   "source": [
    "from typing import Optional\n",
    "from costly.costlog import Costlog\n",
    "from costly.simulators.llm_simulator_faker import LLM_Simulator_Faker\n",
    "from costly.estimators.llm_api_estimation import LLM_API_Estimation\n",
    "from time import sleep\n",
    "from datetime import datetime\n",
    "from typing import List, Dict, Any, Optional, Union\n",
    "costlog = Costlog()\n",
    "\n",
    "with costlog.new_item() as (item, timer):\n",
    "    item.update({\"Hi\": \"Hello\"})\n",
    "\n",
    "x=LLM_Simulator_Faker.simulate_llm_call(\n",
    "    input_string=\"Hello\",\n",
    "    model=\"gpt-3.5-turbo\",\n",
    "    response_model=dict[str, Optional[list]] | str | None,\n",
    "    cost_log=costlog,\n",
    ")\n",
    "print(x)"
   ]
  },
  {
   "cell_type": "code",
   "execution_count": 10,
   "metadata": {},
   "outputs": [
    {
     "data": {
      "text/plain": [
       "[['Task tough hard open carry full pick. Risk dinner body figure until small more.\\nHer main civil pressure top where fight.\\nWest break occur growth other have attention. Sit suddenly talk event development never serious network. Realize high look floor.\\nPower per simply over both. Recent Republican term total always do building who. Voice as physical type adult leader. Investment week above figure evening pattern Republican blue.\\nEconomy myself important despite take choose. Man theory pressure trial collection.\\nThroughout present recent various computer source. Behavior full hot report cut.\\nSpecial education figure government discussion tell she best. Five among themselves boy. Concern commercial debate factor dinner treat.\\nKey risk check claim never professor stock. Measure economic nice trade tell. Conference way bad range big.\\nStyle or fact pick imagine. Simple news interview although activity action since. Trip do story positive drive third lay hit.\\nRight impact smile. Part hit west no history north. Else public see social Congress onto.\\nCoach him his north so describe. Little though at seven inside. Region better modern marriage difference do.\\nForm safe north understand six. Wish particularly small understand entire turn. Activity current light choice.\\nLeave behind even you act off hundred. Expert yes significant election security story. Family center executive wish try arm. Meeting bad door.\\nTeacher plant back remember understand raise west. Any hope build. Night we thus community recent.\\nMessage sort alone threat. According each relationship upon risk hard. Pattern least send manager.\\nQuality through teach. So necessary animal second perhaps which author. Medical view poor parent.\\nChurch beat road. Sign mention charge nice seven. Beautiful four fly put.\\nConsider item member free lose tax. Always stay trip company state soldier policy nice. Operation face organization weight how.\\nCreate cup try unit its. Test door history where organization interest must.\\nTen democratic structure Mrs right dream. Current off finish situation feel dream.\\nReport school hard by never leader. Together choice whom experience management claim. Young news adult anything blue employee know. Paper series industry foreign detail buy instead.\\nResult team huge stand street key throughout couple. Short service memory public. Music partner strong receive magazine site debate.\\nFew structure moment himself art. Ago major someone today buy eye.\\nYoung seek of work allow little anyone. Establish where talk age system group against. For single wind unit.\\nRegion court interesting tough large partner. Enough anything bring five. Attorney on north method your.',\n",
       "  'Analysis note hope treat read person Mr. World may at purpose model mention former. Report learn store tough far.\\nReligious resource avoid continue lay maintain continue personal. Hear throw police. Dark state so return save quality never.\\nFood when everybody. One writer thought moment son.\\nWord enough his answer. Lay figure learn letter view where use must.\\nLike whole figure defense line federal. Under value daughter upon discuss.\\nSeries free bit relationship respond theory grow. Treat job action never.\\nContain film health heavy Mrs quickly office. Serve purpose attack.\\nPressure financial size front development across. Month police name above call you.\\nData state water mention affect green product. My stay air method. Else former exactly visit woman skin stage. Over total near party.\\nGrow person such forward record. Modern until allow when inside order school lawyer. People kitchen modern allow.\\nKind small population smile. Think reduce business security nearly skin pick. Throw line two fish.\\nHealth speak from here former. Drive day while fund road century those. Big church account month respond draw north.\\nMind standard hand. First fund water drop sense.\\nSuccessful side show mother better.\\nCatch stuff special. Although popular into suffer kind well development.\\nTraditional do floor reflect. Own old it charge expect commercial too. Market ago fast myself.\\nPersonal bad her director worker difference. Interesting economy find if.\\nPhysical threat get very catch. South nothing open size spring.\\nDinner evening table voice like. American blood wonder parent.\\nManage art town lose full. Its represent day. Grow blood vote.\\nVoice probably task number fall world. Cover behavior box. Up white employee ever happen.\\nResearch possible kitchen according other article develop. Seat section establish it long life. Eye actually far wear research.\\nAsk together information grow. Personal heart cut behavior though recognize movie miss. Investment but become standard minute magazine clear. Difficult career role agree.\\nFree arm land campaign establish. Television cultural item family. Beautiful arrive both side work ready.\\nWall first help respond on. Owner chance model appear customer nice. Nation defense east deal four reduce available do. Kind much international everything born.\\nOpen long place world party word less. Machine drop economic week agency staff thank. Trial every human approach cultural light nor.\\nWhose tough close director throw choice particularly. Build people heart at sure choose.\\nWord you method look particularly tonight college. Building maintain try if.\\nSay lose nature add friend set character. Next tough happy inside news. Black edge behind.',\n",
       "  'Kitchen poor break wish measure. System may according need cause activity themselves. Environmental respond then dog half.\\nProtect enter current cell floor develop. Really buy statement yard understand key all.\\nEconomy key high movie cut table. Sell throughout sound size term bag pull big. Rich buy staff better offer. Go talk old into your.\\nPicture whose clear year man. Your civil determine carry better already administration.\\nCustomer whatever leg after site sort. Everything part above possible station get appear watch. Section history although under factor.\\nStation staff sign cup community.\\nPopulation interest share attorney face suggest. Music detail character property.\\nLikely some pass item floor some century.\\nArgue stand program difference. Prevent speech hair early way article. Live specific difficult himself wide memory.\\nWhom to everything charge ahead. Best hand themselves miss whole continue.\\nPartner before person matter kid. Someone where kitchen majority those. Bring run the mean adult behind set pretty. May space just whatever smile.\\nWorld according child west job three. Several join if produce. Including day thousand.\\nLocal letter a some center. Mr might much white. Personal recent grow forget.\\nDirection on during pattern population few court television. Sort rest interview central. Artist woman idea onto measure game yourself individual.\\nMyself save Republican measure save. Huge tough important pretty gas fact everybody. Forward phone recent foot across region lot interesting.\\nAbout nature purpose none base notice those. Small must other somebody source policy rather.\\nConsumer take put fund. Return another head weight close finish visit.\\nFill south possible as watch old. Heart radio camera political television.\\nThird support lay half. Leave voice social conference citizen stand.\\nJust class painting about than assume health. Walk suffer option evidence reflect avoid hard reality.\\nStudy station choice officer. Class education room. Become thought decide reduce author. Charge work project democratic beyond Mrs.\\nPressure task himself ability on nothing agency risk. Movie fill this.\\nOne evidence risk call.\\nSkin argue put letter those dark hospital. Bill debate building place newspaper idea. West order name through.\\nPm me pattern rate per by. Senior building especially play point. Among stay back social sell.\\nKnow staff rather. Control simple the themselves by none age. Specific ability admit offer rest property.\\nMaterial economic everyone court any western. Child together send everybody. Up young whether continue strategy hotel we.\\nManage individual a area. Bank there including until add different. Picture public member south detail.',\n",
       "  'Possible short range focus. Yes cut free election. Above your deep religious five there side.\\nThus billion result office music. Position future seat tonight several between security. Pm focus be at coach.\\nHour rule about. Visit loss how yeah miss TV light. Another ready ago reality natural.\\nFront several forward. Perhaps onto every feel. More similar available.\\nBig here buy final run.\\nStudent town spring tree choose wish subject market. Send article agency role.\\nSave religious glass visit account speak. International step sign hair lay career Mrs. Dinner medical should later room drive wrong seem.\\nSource here seat teach.\\nLocal either focus among scene give. Rock resource wish sign early nothing growth. Decision method station only.\\nIt suffer office anyone direction TV. Safe reduce fly appear side try.\\nTest imagine place meet article with part. Right research affect involve admit dinner free.\\nFilm business south pattern better head owner. Reality actually mention garden life.\\nChance project future series section resource visit. Level from then edge general. Where ten focus organization. Mean lot agree wear modern challenge past.\\nPlant need either education really machine agent decision. Throw challenge main though. Food make guy.\\nStudy ago impact garden body film. Husband pass sister traditional image news. Exist clearly again less box million.\\nAuthor consumer crime protect against real watch. Have treat run anything left memory community. Add several development buy ten.\\nLight choose fear fire listen window partner. Expert dark process south thus. Responsibility bill year our safe.\\nClose or road culture perhaps. Product available establish various modern family. Citizen state type time fund American shake.\\nMrs kid miss fish our. Program despite focus entire whose. Gas sit fill truth.\\nLike chair because past. True occur fill officer history team opportunity. By smile stock guess worry.\\nBody because hit outside effort. Certain old apply chair suffer.\\nStrong yes ball soldier executive kind develop. Star how various this item. Listen opportunity also either wait model foreign.\\nBorn get mean money hard. Five item great new. Push cup outside too.\\nProgram bill under business major speech own. Month third capital animal. Activity leg huge possible change media them.\\nSerious myself low many. Member hour including. Require hard actually education do discuss.\\nNice fly improve hair him several especially. Follow southern only. Fish laugh somebody person leg.\\nEstablish fish rest talk debate. Wall speech dark Congress alone radio seat area. Pretty up since station person.\\nPlayer meeting study still. Site focus performance. Customer course happy southern.',\n",
       "  'Wear everyone total responsibility environment plan morning. Have simple claim. Natural close eat. Develop moment girl rest assume.\\nAnother become year himself natural success. Around rate interview over develop. Hear suddenly agent activity sound radio morning.\\nEveryone against board ready hit human. Soon take ok. Bad window help specific issue commercial have station.\\nClose economic director whether others attention your popular. Office across challenge. Doctor together deal marriage push animal.\\nPretty morning scientist nearly say hit. Security right special change without wrong far voice.\\nImage human start floor citizen identify success. Call list join keep say front collection. Boy issue wall for magazine program man.\\nFloor benefit system population peace painting. Half question whom fact fish deep.\\nTree shoulder computer side certain campaign. By establish floor second somebody although service campaign. Soon often success main medical. Article project beautiful expert scientist there around.\\nIdea follow line region others billion. Million yeah job cost school career. Bill matter if less true message meeting whose. Reveal attorney father happen reveal security beautiful.\\nAgainst position space piece close movement.\\nEvidence certain already soldier author. Act long open artist impact. Which keep trial station administration personal guess set.\\nSenior enter practice back food. Marriage become song organization less look. Wish create bag.\\nDeal although purpose likely determine political never. Site open stuff investment term particular thank particular.\\nSuccess social explain project table social write.\\nHis computer into strategy laugh loss. Religious country dinner.\\nDuring loss nature author group environmental her. Seven enter dark church turn.\\nDecide administration focus rest reason southern drive. Executive soon pull surface officer possible. Understand book charge require million.\\nDiscussion social discuss follow form of until. Commercial work president trial certain class. Down personal chance financial move ready star.\\nSong it claim drop sea chance. Away night ability special.\\nSeem leave western reduce year deal fine. Either despite huge check. None form stand market perhaps everyone.\\nProperty occur other song trip learn similar. Bed task anything nation attorney actually arm.\\nImportant although key real decide population store. While official television police address.\\nPeace majority meet member. Bring save draw animal.\\nAcross close sing political. Film six enter term worker note job.\\nWork simple since like. Speak anyone where. Yourself peace soon imagine include trip resource.\\nTime TV avoid win.',\n",
       "  'Responsibility whom thank century investment research Mrs shake. Himself with trial large school section.\\nOften traditional court first its clearly political. According according may still. Day discuss guess maybe learn writer investment.\\nThing police low others through population bill. Allow road feel expect middle PM nice. Minute accept cultural quality threat. Message green only animal effort well claim state.\\nProject development impact since future television wait how. Than every arm word challenge eat computer. Yes compare enjoy pick change new.\\nCentury thought rule one. Condition a soldier view recently product security. Ago game area next generation resource ten view.\\nGroup song word professor deep add send. Partner fear reason step article.\\nSituation case minute travel whom. Because bar you phone but such continue.\\nBest start single despite enjoy. Investment bit yard the.\\nBusiness until scene. That main my black fill pay factor.\\nTo claim start. Lay cause Democrat less enough report. Election check bar affect goal move usually.\\nService personal herself happy. Call media sell by.\\nHome personal seek bill hear still. Either project statement trade worry front whether far. Significant politics player behavior range government everyone.\\nFrom indicate fill field. Rock political hotel rule somebody agency product see. Party organization particular rest participant war window. Make word late many mind.\\nAdmit smile data never daughter while end live. Clear Congress wish rather.\\nStory real term about simply be teach now. Capital law concern own every also.\\nFilm eye say develop later wind artist.\\nAnalysis three participant perform increase daughter. One eat game back citizen. Person treat mouth.\\nGovernment imagine brother charge authority within exactly. Many trouble space available city.\\nFather clear blue long early family.\\nWindow keep which eight issue difference. Quite as company south practice window. Involve fight part wonder opportunity. Should wind significant.\\nSuggest heavy again public idea production. Culture author together analysis.\\nWriter everything leader base pretty between. Smile center throughout but any future as.\\nSeason ever boy tough national dark population those. Speech main sell third recent police join.\\nNear thus store industry direction. There federal tree environment pattern tax career. Project tree shoulder answer leg discover billion.\\nWrong cultural enjoy. Almost born good old language put. Couple exist plant it alone that.\\nAway research religious hand deep reach. Hope station information meeting campaign. Attack board west computer young.\\nEverybody for nor after husband size myself.',\n",
       "  'Site life plant without film. Impact national face military long another.\\nSuch team rate point. Film coach staff recognize civil five color. Mother party compare suggest.\\nPopular spring center whatever its. Physical off north move drop whose.\\nToo beautiful go read. Reality arrive each kitchen they eat. Child explain win serve upon arm read.\\nSpeech return myself report.\\nAmount two people.\\nBag indicate table son bad physical edge. Bank field order system.\\nCity report address effect write speak. Some discussion cause certain protect line dream. Red recently sound physical.\\nJust consumer section skin wide community while know. Base television occur ok character notice before.\\nKeep hospital take north loss billion. West word treat man whole let scene. Civil sport fine drug project lot matter.\\nSpecial fall choice realize impact center. Consider subject begin admit local answer watch.\\nPopulation church trouble personal. Road whether discover property ground. National energy election always small himself impact.\\nStay interview brother style relationship school pick senior. Along country soldier set eye voice growth deal. Local state size occur Republican when against.\\nCultural production yes. Break very business along fire. Suggest production ready conference woman audience authority father. Movie carry camera church.\\nHis region sell brother always. Also ten measure worry evidence carry trial together.\\nTend ever remain yet whatever apply. Current amount human sense test catch. North such military control himself consumer same on.\\nExpect network feel reduce. Woman network this us.\\nMuch record treatment worker very. Few too truth. Rock eat seat similar. Whom light edge somebody before station successful year.\\nSeat cell body hit image ask everybody. Include dog use voice degree report. Face join language yourself.\\nProfessional type operation. Avoid try order hope gun. Example under stock face care.\\nYoung available among. Body poor ask may someone. Age treatment us near bring report.\\nEstablish drive sign career. Expert ground audience whatever.\\nSame nor career table. Interest level environmental size American. Result wall might the level business left. Power nearly require.\\nSpace low agent if common return. Check scene economy admit attack cultural report. Try chair several admit.\\nI take past. Agreement fish program. Reduce I several.\\nWorker drug win article family environmental. Check consumer environmental American hit so economic. Sit employee reveal.\\nHold seem evening.\\nEasy relationship represent glass pattern other. Science serious summer raise be risk. Anyone support fine apply concern common big.\\nJoin talk soon miss. Bed per detail.']]"
      ]
     },
     "execution_count": 10,
     "metadata": {},
     "output_type": "execute_result"
    }
   ],
   "source": []
  },
  {
   "cell_type": "code",
   "execution_count": 7,
   "metadata": {},
   "outputs": [
    {
     "data": {
      "text/plain": [
       "{'cost_min': float, 'cost_max': float, 'time_min': float, 'time_max': float}"
      ]
     },
     "execution_count": 7,
     "metadata": {},
     "output_type": "execute_result"
    }
   ],
   "source": [
    "\n",
    "Costlog.CostlogItem().__annotations__"
   ]
  }
 ],
 "metadata": {
  "kernelspec": {
   "display_name": "Python 3",
   "language": "python",
   "name": "python3"
  },
  "language_info": {
   "codemirror_mode": {
    "name": "ipython",
    "version": 3
   },
   "file_extension": ".py",
   "mimetype": "text/x-python",
   "name": "python",
   "nbconvert_exporter": "python",
   "pygments_lexer": "ipython3",
   "version": "3.11.0"
  }
 },
 "nbformat": 4,
 "nbformat_minor": 2
}
