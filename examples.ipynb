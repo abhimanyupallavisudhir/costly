{
 "cells": [
  {
   "cell_type": "code",
   "execution_count": 2,
   "metadata": {},
   "outputs": [
    {
     "data": {
      "text/plain": [
       "'Delve delve delve delve. Delve delve delve delve delve. Delve delve delve delve delve.\\nDelve delve delve delve delve delve delve delve. Delve delve delve delve delve delve. Delve delve delve delve delve.\\nDelve delve delve delve delve delve. Delve delve delve. Delve delve delve delve delve.\\nDelve delve delve delve delve delve. Delve delve delve delve delve.\\nDelve delve delve delve delve delve delve delve. Delve delve delve.\\nDelve delve delve delve delve delve delve. Delve delve delve delve delve.\\nDelve delve delve delve delve delve delve. Delve delve delve delve.\\nDelve delve delve delve delve delve delve. Delve delve delve delve delve delve delve delve.\\nDelve delve delve delve delve delve. Delve delve delve delve. Delve delve delve delve delve delve delve.\\nDelve delve delve delve delve delve. Delve delve delve delve delve.\\nDelve delve delve delve delve delve. Delve delve delve delve delve. Delve delve delve delve delve delve delve.\\nDelve delve delve delve delve delve delve. Delve delve delve delve delve delve. Delve delve delve delve delve delve.\\nDelve delve delve delve delve delve. Delve delve delve delve.\\nDelve delve delve delve delve. Delve delve delve delve. Delve delve delve delve.\\nDelve delve delve delve. Delve delve delve delve delve delve. Delve delve delve delve delve delve. Delve delve delve delve delve delve delve delve.\\nDelve delve delve delve. Delve delve delve delve delve delve. Delve delve delve delve delve. Delve delve delve delve delve delve delve.\\nDelve delve delve delve. Delve delve delve. Delve delve delve delve delve.\\nDelve delve delve delve delve delve. Delve delve delve delve delve delve delve.\\nDelve delve delve delve. Delve delve delve delve. Delve delve delve.\\nDelve delve delve delve delve delve delve delve. Delve delve delve delve delve delve delve delve. Delve delve delve delve delve delve.\\nDelve delve delve delve delve delve.\\nDelve delve delve delve delve delve delve. Delve delve delve delve delve. Delve delve delve delve delve delve delve.\\nDelve delve delve delve delve. Delve delve delve. Delve delve delve delve delve delve delve.\\nDelve delve delve delve delve. Delve delve delve delve delve. Delve delve delve delve delve delve delve delve.\\nDelve delve delve. Delve delve delve delve delve delve. Delve delve delve delve.\\nDelve delve delve delve. Delve delve delve delve delve delve delve. Delve delve delve delve delve delve delve delve.\\nDelve delve delve delve delve delve. Delve delve delve delve delve delve delve. Delve delve delve delve delve delve delve.\\nDelve delve delve delve delve. Delve delve delve delve delve delve delve. Delve delve delve delve delve delve.'"
      ]
     },
     "execution_count": 2,
     "metadata": {},
     "output_type": "execute_result"
    }
   ],
   "source": [
    "from costly.costlog import Costlog\n",
    "from costly.simulators.llm_simulator import LLM_Simulator\n",
    "from costly.estimators.llm_api_estimation import LLM_API_Estimation\n",
    "from time import sleep\n",
    "\n",
    "costlog = Costlog()\n",
    "\n",
    "with costlog.new_item() as (item, timer):\n",
    "    item.update({\"Hi\": \"Hello\"})\n",
    "    \n",
    "LLM_Simulator.simulate_llm_call(\n",
    "    input_string=\"Hello\",\n",
    "    model=\"gpt-3.5-turbo\",\n",
    "    cost_log=costlog,\n",
    ")"
   ]
  },
  {
   "cell_type": "code",
   "execution_count": null,
   "metadata": {},
   "outputs": [],
   "source": []
  },
  {
   "cell_type": "code",
   "execution_count": 7,
   "metadata": {},
   "outputs": [
    {
     "data": {
      "text/plain": [
       "{'cost_min': float, 'cost_max': float, 'time_min': float, 'time_max': float}"
      ]
     },
     "execution_count": 7,
     "metadata": {},
     "output_type": "execute_result"
    }
   ],
   "source": [
    "\n",
    "Costlog.CostlogItem().__annotations__"
   ]
  }
 ],
 "metadata": {
  "kernelspec": {
   "display_name": "Python 3",
   "language": "python",
   "name": "python3"
  },
  "language_info": {
   "codemirror_mode": {
    "name": "ipython",
    "version": 3
   },
   "file_extension": ".py",
   "mimetype": "text/x-python",
   "name": "python",
   "nbconvert_exporter": "python",
   "pygments_lexer": "ipython3",
   "version": "3.11.0"
  }
 },
 "nbformat": 4,
 "nbformat_minor": 2
}
