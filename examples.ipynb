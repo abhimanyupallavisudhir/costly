{
 "cells": [
  {
   "cell_type": "code",
   "execution_count": 1,
   "metadata": {},
   "outputs": [],
   "source": [
    "from costly.costlog import Costlog\n",
    "from time import sleep\n",
    "\n",
    "costlog = Costlog()\n",
    "\n",
    "with costlog.new_item() as (item, timer):\n",
    "    item[\"cost\"] = 10\n",
    "    sleep(1.5)\n",
    "    item[\"time\"] = timer()"
   ]
  },
  {
   "cell_type": "code",
   "execution_count": 7,
   "metadata": {},
   "outputs": [
    {
     "data": {
      "text/plain": [
       "{'cost_min': float, 'cost_max': float, 'time_min': float, 'time_max': float}"
      ]
     },
     "execution_count": 7,
     "metadata": {},
     "output_type": "execute_result"
    }
   ],
   "source": [
    "Costlog.CostlogItem().__annotations__"
   ]
  }
 ],
 "metadata": {
  "kernelspec": {
   "display_name": "Python 3",
   "language": "python",
   "name": "python3"
  },
  "language_info": {
   "codemirror_mode": {
    "name": "ipython",
    "version": 3
   },
   "file_extension": ".py",
   "mimetype": "text/x-python",
   "name": "python",
   "nbconvert_exporter": "python",
   "pygments_lexer": "ipython3",
   "version": "3.11.0"
  }
 },
 "nbformat": 4,
 "nbformat_minor": 2
}
